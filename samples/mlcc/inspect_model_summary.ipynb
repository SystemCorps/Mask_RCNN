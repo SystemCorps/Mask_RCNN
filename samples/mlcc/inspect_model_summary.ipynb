{
 "cells": [
  {
   "cell_type": "markdown",
   "metadata": {},
   "source": [
    "## Mask R-CNN - Inspect Trained Model\n",
    "\n",
    "Code and visualizations to test, debug, and evaluate the Mask R-CNN model."
   ]
  },
  {
   "cell_type": "code",
   "execution_count": 1,
   "metadata": {},
   "outputs": [
    {
     "name": "stderr",
     "output_type": "stream",
     "text": [
      "Using TensorFlow backend.\n"
     ]
    }
   ],
   "source": [
    "import os\n",
    "import sys\n",
    "import random\n",
    "import math\n",
    "import re\n",
    "import time\n",
    "import numpy as np\n",
    "import tensorflow as tf\n",
    "import matplotlib\n",
    "import matplotlib.pyplot as plt\n",
    "import matplotlib.patches as patches\n",
    "\n",
    "# Root directory of the project\n",
    "ROOT_DIR = os.path.abspath(\"../../\")\n",
    "\n",
    "# Import Mask RCNN\n",
    "sys.path.append(ROOT_DIR)  # To find local version of the library\n",
    "from mrcnn import utils\n",
    "from mrcnn import visualize\n",
    "from mrcnn.visualize import display_images\n",
    "import mrcnn.model as modellib\n",
    "from mrcnn.model import log\n",
    "\n",
    "%matplotlib inline \n",
    "\n",
    "\n",
    "# mlcc\n",
    "from samples.mlcc import mlcc3\n",
    "\n",
    "config = mlcc3.MLCCConfig()\n",
    "# Directory to save logs and trained model\n",
    "MODEL_DIR = os.path.join(ROOT_DIR, \"logs\")\n",
    "\n",
    "# Path to Shapes trained weights\n",
    "MODEL_PATH = os.path.join(ROOT_DIR, \"logs/mlcc220200403T1219/mask_rcnn_mlcc2_0080.h5\")"
   ]
  },
  {
   "cell_type": "markdown",
   "metadata": {},
   "source": [
    "## Configurations"
   ]
  },
  {
   "cell_type": "code",
   "execution_count": 2,
   "metadata": {},
   "outputs": [
    {
     "name": "stdout",
     "output_type": "stream",
     "text": [
      "\n",
      "Configurations:\n",
      "BACKBONE                       resnet50\n",
      "BACKBONE_STRIDES               [4, 8, 16, 32, 64]\n",
      "BATCH_SIZE                     1\n",
      "BBOX_STD_DEV                   [0.1 0.1 0.2 0.2]\n",
      "COMPUTE_BACKBONE_SHAPE         None\n",
      "DETECTION_MAX_INSTANCES        1024\n",
      "DETECTION_MIN_CONFIDENCE       0.7\n",
      "DETECTION_NMS_THRESHOLD        0.3\n",
      "FPN_CLASSIF_FC_LAYERS_SIZE     1024\n",
      "GPU_COUNT                      1\n",
      "GRADIENT_CLIP_NORM             5.0\n",
      "IMAGES_PER_GPU                 1\n",
      "IMAGE_CHANNEL_COUNT            3\n",
      "IMAGE_MAX_DIM                  512\n",
      "IMAGE_META_SIZE                15\n",
      "IMAGE_MIN_DIM                  512\n",
      "IMAGE_MIN_SCALE                0\n",
      "IMAGE_RESIZE_MODE              square\n",
      "IMAGE_SHAPE                    [512 512   3]\n",
      "LEARNING_MOMENTUM              0.9\n",
      "LEARNING_RATE                  0.001\n",
      "LOSS_WEIGHTS                   {'rpn_class_loss': 1.0, 'rpn_bbox_loss': 1.0, 'mrcnn_class_loss': 1.0, 'mrcnn_bbox_loss': 1.0, 'mrcnn_mask_loss': 1.0}\n",
      "MASK_POOL_SIZE                 14\n",
      "MASK_SHAPE                     [28, 28]\n",
      "MAX_GT_INSTANCES               512\n",
      "MEAN_PIXEL                     [123.7 116.8 103.9]\n",
      "MINI_MASK_SHAPE                (32, 32)\n",
      "NAME                           mlcc2\n",
      "NUM_CLASSES                    3\n",
      "POOL_SIZE                      7\n",
      "POST_NMS_ROIS_INFERENCE        1000\n",
      "POST_NMS_ROIS_TRAINING         2000\n",
      "PRE_NMS_LIMIT                  6000\n",
      "ROI_POSITIVE_RATIO             0.33\n",
      "RPN_ANCHOR_RATIOS              [0.5, 1, 2]\n",
      "RPN_ANCHOR_SCALES              (2, 4, 8, 16, 32)\n",
      "RPN_ANCHOR_STRIDE              1\n",
      "RPN_BBOX_STD_DEV               [0.1 0.1 0.2 0.2]\n",
      "RPN_NMS_THRESHOLD              0.7\n",
      "RPN_TRAIN_ANCHORS_PER_IMAGE    2048\n",
      "STEPS_PER_EPOCH                100\n",
      "TOP_DOWN_PYRAMID_SIZE          256\n",
      "TRAIN_BN                       False\n",
      "TRAIN_ROIS_PER_IMAGE           1024\n",
      "USE_MINI_MASK                  True\n",
      "USE_RPN_ROIS                   True\n",
      "VALIDATION_STEPS               100\n",
      "WEIGHT_DECAY                   0.0001\n",
      "\n",
      "\n"
     ]
    }
   ],
   "source": [
    "# Override the training configurations with a few\n",
    "# changes for inferencing.\n",
    "class InferenceConfig(config.__class__):\n",
    "    # Run detection on one image at a time\n",
    "    GPU_COUNT = 1\n",
    "    IMAGES_PER_GPU = 1\n",
    "\n",
    "config = InferenceConfig()\n",
    "config.display()"
   ]
  },
  {
   "cell_type": "markdown",
   "metadata": {},
   "source": [
    "## Notebook Preferences"
   ]
  },
  {
   "cell_type": "code",
   "execution_count": 3,
   "metadata": {},
   "outputs": [],
   "source": [
    "# Device to load the neural network on.\n",
    "# Useful if you're training a model on the same \n",
    "# machine, in which case use CPU and leave the\n",
    "# GPU for training.\n",
    "DEVICE = \"/gpu:0\"  # /cpu:0 or /gpu:0\n",
    "\n",
    "# Inspect the model in training or inference modes\n",
    "# values: 'inference' or 'training'\n",
    "# TODO: code for 'training' test mode not ready yet\n",
    "TEST_MODE = \"inference\""
   ]
  },
  {
   "cell_type": "code",
   "execution_count": 4,
   "metadata": {},
   "outputs": [],
   "source": [
    "def get_ax(rows=1, cols=1, size=16):\n",
    "    \"\"\"Return a Matplotlib Axes array to be used in\n",
    "    all visualizations in the notebook. Provide a\n",
    "    central point to control graph sizes.\n",
    "    \n",
    "    Adjust the size attribute to control how big to render images\n",
    "    \"\"\"\n",
    "    _, ax = plt.subplots(rows, cols, figsize=(size*cols, size*rows))\n",
    "    return ax"
   ]
  },
  {
   "cell_type": "markdown",
   "metadata": {},
   "source": [
    "## Load Validation Dataset"
   ]
  },
  {
   "cell_type": "code",
   "execution_count": 5,
   "metadata": {},
   "outputs": [
    {
     "name": "stdout",
     "output_type": "stream",
     "text": [
      "loading annotations into memory...\n",
      "Done (t=0.19s)\n",
      "creating index...\n",
      "index created!\n",
      "Images: 65\n",
      "Classes: ['BG', 'Fault', 'MLCC']\n"
     ]
    }
   ],
   "source": [
    "# Build validation dataset\n",
    "dataset = mlcc3.MLCCDataset()\n",
    "dataset.load_mlcc('../../mlcc2', 'test')\n",
    "\n",
    "# Must call before using the dataset\n",
    "dataset.prepare()\n",
    "\n",
    "print(\"Images: {}\\nClasses: {}\".format(len(dataset.image_ids), dataset.class_names))"
   ]
  },
  {
   "cell_type": "markdown",
   "metadata": {},
   "source": [
    "## Load Model"
   ]
  },
  {
   "cell_type": "code",
   "execution_count": 6,
   "metadata": {},
   "outputs": [
    {
     "data": {
      "text/plain": [
       "'/docker/git/Mask_RCNN/logs'"
      ]
     },
     "execution_count": 6,
     "metadata": {},
     "output_type": "execute_result"
    }
   ],
   "source": [
    "MODEL_DIR"
   ]
  },
  {
   "cell_type": "code",
   "execution_count": 7,
   "metadata": {},
   "outputs": [
    {
     "name": "stdout",
     "output_type": "stream",
     "text": [
      "WARNING:tensorflow:From /usr/local/lib/python3.6/dist-packages/keras/backend/tensorflow_backend.py:541: The name tf.placeholder is deprecated. Please use tf.compat.v1.placeholder instead.\n",
      "\n",
      "WARNING:tensorflow:From /usr/local/lib/python3.6/dist-packages/keras/backend/tensorflow_backend.py:66: The name tf.get_default_graph is deprecated. Please use tf.compat.v1.get_default_graph instead.\n",
      "\n",
      "WARNING:tensorflow:From /usr/local/lib/python3.6/dist-packages/keras/backend/tensorflow_backend.py:4432: The name tf.random_uniform is deprecated. Please use tf.random.uniform instead.\n",
      "\n",
      "WARNING:tensorflow:From /usr/local/lib/python3.6/dist-packages/keras/backend/tensorflow_backend.py:2139: The name tf.nn.fused_batch_norm is deprecated. Please use tf.compat.v1.nn.fused_batch_norm instead.\n",
      "\n",
      "WARNING:tensorflow:From /usr/local/lib/python3.6/dist-packages/keras/backend/tensorflow_backend.py:4267: The name tf.nn.max_pool is deprecated. Please use tf.nn.max_pool2d instead.\n",
      "\n",
      "WARNING:tensorflow:From /usr/local/lib/python3.6/dist-packages/keras/backend/tensorflow_backend.py:2239: The name tf.image.resize_nearest_neighbor is deprecated. Please use tf.compat.v1.image.resize_nearest_neighbor instead.\n",
      "\n",
      "WARNING:tensorflow:From /usr/local/lib/python3.6/dist-packages/mask_rcnn-2.1-py3.6.egg/mrcnn/model.py:341: The name tf.log is deprecated. Please use tf.math.log instead.\n",
      "\n",
      "WARNING:tensorflow:From /usr/local/lib/python3.6/dist-packages/mask_rcnn-2.1-py3.6.egg/mrcnn/model.py:399: where (from tensorflow.python.ops.array_ops) is deprecated and will be removed in a future version.\n",
      "Instructions for updating:\n",
      "Use tf.where in 2.0, which has the same broadcast rule as np.where\n",
      "WARNING:tensorflow:From /usr/local/lib/python3.6/dist-packages/mask_rcnn-2.1-py3.6.egg/mrcnn/model.py:423: calling crop_and_resize_v1 (from tensorflow.python.ops.image_ops_impl) with box_ind is deprecated and will be removed in a future version.\n",
      "Instructions for updating:\n",
      "box_ind is deprecated, use box_indices instead\n",
      "WARNING:tensorflow:From /usr/local/lib/python3.6/dist-packages/mask_rcnn-2.1-py3.6.egg/mrcnn/model.py:720: The name tf.sets.set_intersection is deprecated. Please use tf.sets.intersection instead.\n",
      "\n",
      "WARNING:tensorflow:From /usr/local/lib/python3.6/dist-packages/mask_rcnn-2.1-py3.6.egg/mrcnn/model.py:722: The name tf.sparse_tensor_to_dense is deprecated. Please use tf.sparse.to_dense instead.\n",
      "\n",
      "WARNING:tensorflow:From /usr/local/lib/python3.6/dist-packages/mask_rcnn-2.1-py3.6.egg/mrcnn/model.py:772: to_float (from tensorflow.python.ops.math_ops) is deprecated and will be removed in a future version.\n",
      "Instructions for updating:\n",
      "Use `tf.cast` instead.\n"
     ]
    }
   ],
   "source": [
    "# Create model in inference mode\n",
    "with tf.device(DEVICE):\n",
    "    model = modellib.MaskRCNN(mode=\"inference\", model_dir=MODEL_DIR,\n",
    "                              config=config)"
   ]
  },
  {
   "cell_type": "code",
   "execution_count": 8,
   "metadata": {},
   "outputs": [
    {
     "name": "stdout",
     "output_type": "stream",
     "text": [
      "WARNING:tensorflow:From /usr/local/lib/python3.6/dist-packages/keras/backend/tensorflow_backend.py:190: The name tf.get_default_session is deprecated. Please use tf.compat.v1.get_default_session instead.\n",
      "\n",
      "WARNING:tensorflow:From /usr/local/lib/python3.6/dist-packages/keras/backend/tensorflow_backend.py:197: The name tf.ConfigProto is deprecated. Please use tf.compat.v1.ConfigProto instead.\n",
      "\n",
      "WARNING:tensorflow:From /usr/local/lib/python3.6/dist-packages/keras/backend/tensorflow_backend.py:203: The name tf.Session is deprecated. Please use tf.compat.v1.Session instead.\n",
      "\n",
      "WARNING:tensorflow:From /usr/local/lib/python3.6/dist-packages/keras/backend/tensorflow_backend.py:207: The name tf.global_variables is deprecated. Please use tf.compat.v1.global_variables instead.\n",
      "\n",
      "WARNING:tensorflow:From /usr/local/lib/python3.6/dist-packages/keras/backend/tensorflow_backend.py:216: The name tf.is_variable_initialized is deprecated. Please use tf.compat.v1.is_variable_initialized instead.\n",
      "\n",
      "WARNING:tensorflow:From /usr/local/lib/python3.6/dist-packages/keras/backend/tensorflow_backend.py:223: The name tf.variables_initializer is deprecated. Please use tf.compat.v1.variables_initializer instead.\n",
      "\n",
      "Re-starting from epoch 80\n"
     ]
    }
   ],
   "source": [
    "model.load_weights(MODEL_PATH, by_name=True)"
   ]
  },
  {
   "cell_type": "markdown",
   "metadata": {},
   "source": [
    "## Run Detection"
   ]
  },
  {
   "cell_type": "code",
   "execution_count": null,
   "metadata": {},
   "outputs": [
    {
     "name": "stdout",
     "output_type": "stream",
     "text": [
      "image ID: mlcc.0 (0) \n",
      "Processing 1 images\n",
      "image                    shape: (512, 512, 3)         min:    0.00000  max:  149.00000  uint8\n",
      "molded_images            shape: (1, 512, 512, 3)      min: -123.70000  max:   25.30000  float64\n",
      "image_metas              shape: (1, 15)               min:    0.00000  max:  512.00000  int64\n",
      "anchors                  shape: (1, 65472, 4)         min:   -0.04428  max:    0.99494  float32\n",
      "image ID: mlcc.1 (1) \n",
      "Processing 1 images\n",
      "image                    shape: (512, 512, 3)         min:    0.00000  max:  144.00000  uint8\n",
      "molded_images            shape: (1, 512, 512, 3)      min: -123.70000  max:   20.30000  float64\n",
      "image_metas              shape: (1, 15)               min:    0.00000  max:  512.00000  int64\n",
      "anchors                  shape: (1, 65472, 4)         min:   -0.04428  max:    0.99494  float32\n",
      "image ID: mlcc.2 (2) \n",
      "Processing 1 images\n",
      "image                    shape: (512, 512, 3)         min:    0.00000  max:  134.00000  uint8\n",
      "molded_images            shape: (1, 512, 512, 3)      min: -123.70000  max:   10.30000  float64\n",
      "image_metas              shape: (1, 15)               min:    0.00000  max:  512.00000  int64\n",
      "anchors                  shape: (1, 65472, 4)         min:   -0.04428  max:    0.99494  float32\n",
      "image ID: mlcc.3 (3) \n",
      "Processing 1 images\n",
      "image                    shape: (512, 512, 3)         min:    0.00000  max:  131.00000  uint8\n",
      "molded_images            shape: (1, 512, 512, 3)      min: -123.70000  max:    7.30000  float64\n",
      "image_metas              shape: (1, 15)               min:    0.00000  max:  512.00000  int64\n",
      "anchors                  shape: (1, 65472, 4)         min:   -0.04428  max:    0.99494  float32\n",
      "\n",
      "*** No instances to display *** \n",
      "\n",
      "image ID: mlcc.4 (4) \n",
      "Processing 1 images\n",
      "image                    shape: (512, 512, 3)         min:    0.00000  max:  127.00000  uint8\n",
      "molded_images            shape: (1, 512, 512, 3)      min: -123.70000  max:    3.30000  float64\n",
      "image_metas              shape: (1, 15)               min:    0.00000  max:  512.00000  int64\n",
      "anchors                  shape: (1, 65472, 4)         min:   -0.04428  max:    0.99494  float32\n",
      "image ID: mlcc.5 (5) \n",
      "Processing 1 images\n",
      "image                    shape: (512, 512, 3)         min:    0.00000  max:   83.00000  uint8\n",
      "molded_images            shape: (1, 512, 512, 3)      min: -123.70000  max:  -40.70000  float64\n",
      "image_metas              shape: (1, 15)               min:    0.00000  max:  512.00000  int64\n",
      "anchors                  shape: (1, 65472, 4)         min:   -0.04428  max:    0.99494  float32\n",
      "\n",
      "*** No instances to display *** \n",
      "\n",
      "image ID: mlcc.6 (6) \n",
      "Processing 1 images\n",
      "image                    shape: (512, 512, 3)         min:    0.00000  max:  115.00000  uint8\n",
      "molded_images            shape: (1, 512, 512, 3)      min: -123.70000  max:   -8.70000  float64\n",
      "image_metas              shape: (1, 15)               min:    0.00000  max:  512.00000  int64\n",
      "anchors                  shape: (1, 65472, 4)         min:   -0.04428  max:    0.99494  float32\n",
      "\n",
      "*** No instances to display *** \n",
      "\n",
      "image ID: mlcc.7 (7) \n",
      "Processing 1 images\n",
      "image                    shape: (512, 512, 3)         min:    0.00000  max:  120.00000  uint8\n",
      "molded_images            shape: (1, 512, 512, 3)      min: -123.70000  max:   -2.90000  float64\n",
      "image_metas              shape: (1, 15)               min:    0.00000  max:  512.00000  int64\n",
      "anchors                  shape: (1, 65472, 4)         min:   -0.04428  max:    0.99494  float32\n",
      "\n",
      "*** No instances to display *** \n",
      "\n",
      "image ID: mlcc.8 (8) \n",
      "Processing 1 images\n",
      "image                    shape: (512, 512, 3)         min:    0.00000  max:  150.00000  uint8\n",
      "molded_images            shape: (1, 512, 512, 3)      min: -123.70000  max:   26.30000  float64\n",
      "image_metas              shape: (1, 15)               min:    0.00000  max:  512.00000  int64\n",
      "anchors                  shape: (1, 65472, 4)         min:   -0.04428  max:    0.99494  float32\n",
      "image ID: mlcc.9 (9) \n",
      "Processing 1 images\n",
      "image                    shape: (512, 512, 3)         min:    0.00000  max:  107.00000  uint8\n",
      "molded_images            shape: (1, 512, 512, 3)      min: -123.70000  max:  -16.70000  float64\n",
      "image_metas              shape: (1, 15)               min:    0.00000  max:  512.00000  int64\n",
      "anchors                  shape: (1, 65472, 4)         min:   -0.04428  max:    0.99494  float32\n",
      "\n",
      "*** No instances to display *** \n",
      "\n",
      "image ID: mlcc.10 (10) \n",
      "Processing 1 images\n",
      "image                    shape: (512, 512, 3)         min:    0.00000  max:  109.00000  uint8\n",
      "molded_images            shape: (1, 512, 512, 3)      min: -123.70000  max:   -6.90000  float64\n",
      "image_metas              shape: (1, 15)               min:    0.00000  max:  512.00000  int64\n",
      "anchors                  shape: (1, 65472, 4)         min:   -0.04428  max:    0.99494  float32\n",
      "\n",
      "*** No instances to display *** \n",
      "\n",
      "image ID: mlcc.11 (11) \n",
      "Processing 1 images\n",
      "image                    shape: (512, 512, 3)         min:    0.00000  max:  124.00000  uint8\n",
      "molded_images            shape: (1, 512, 512, 3)      min: -123.70000  max:    0.30000  float64\n",
      "image_metas              shape: (1, 15)               min:    0.00000  max:  512.00000  int64\n",
      "anchors                  shape: (1, 65472, 4)         min:   -0.04428  max:    0.99494  float32\n",
      "image ID: mlcc.12 (12) \n",
      "Processing 1 images\n",
      "image                    shape: (512, 512, 3)         min:    0.00000  max:  142.00000  uint8\n",
      "molded_images            shape: (1, 512, 512, 3)      min: -123.70000  max:   18.30000  float64\n",
      "image_metas              shape: (1, 15)               min:    0.00000  max:  512.00000  int64\n",
      "anchors                  shape: (1, 65472, 4)         min:   -0.04428  max:    0.99494  float32\n",
      "image ID: mlcc.13 (13) \n",
      "Processing 1 images\n",
      "image                    shape: (512, 512, 3)         min:    0.00000  max:  144.00000  uint8\n",
      "molded_images            shape: (1, 512, 512, 3)      min: -123.70000  max:   20.30000  float64\n",
      "image_metas              shape: (1, 15)               min:    0.00000  max:  512.00000  int64\n",
      "anchors                  shape: (1, 65472, 4)         min:   -0.04428  max:    0.99494  float32\n",
      "image ID: mlcc.14 (14) \n",
      "Processing 1 images\n",
      "image                    shape: (512, 512, 3)         min:    0.00000  max:  138.00000  uint8\n",
      "molded_images            shape: (1, 512, 512, 3)      min: -123.70000  max:   14.30000  float64\n",
      "image_metas              shape: (1, 15)               min:    0.00000  max:  512.00000  int64\n",
      "anchors                  shape: (1, 65472, 4)         min:   -0.04428  max:    0.99494  float32\n",
      "image ID: mlcc.15 (15) \n",
      "Processing 1 images\n",
      "image                    shape: (512, 512, 3)         min:    0.00000  max:  108.00000  uint8\n",
      "molded_images            shape: (1, 512, 512, 3)      min: -123.70000  max:  -15.70000  float64\n",
      "image_metas              shape: (1, 15)               min:    0.00000  max:  512.00000  int64\n",
      "anchors                  shape: (1, 65472, 4)         min:   -0.04428  max:    0.99494  float32\n",
      "\n",
      "*** No instances to display *** \n",
      "\n",
      "image ID: mlcc.16 (16) \n",
      "Processing 1 images\n",
      "image                    shape: (512, 512, 3)         min:    0.00000  max:  145.00000  uint8\n",
      "molded_images            shape: (1, 512, 512, 3)      min: -123.70000  max:   21.30000  float64\n",
      "image_metas              shape: (1, 15)               min:    0.00000  max:  512.00000  int64\n",
      "anchors                  shape: (1, 65472, 4)         min:   -0.04428  max:    0.99494  float32\n",
      "image ID: mlcc.17 (17) \n",
      "Processing 1 images\n",
      "image                    shape: (512, 512, 3)         min:    0.00000  max:  111.00000  uint8\n",
      "molded_images            shape: (1, 512, 512, 3)      min: -123.70000  max:  -12.70000  float64\n",
      "image_metas              shape: (1, 15)               min:    0.00000  max:  512.00000  int64\n",
      "anchors                  shape: (1, 65472, 4)         min:   -0.04428  max:    0.99494  float32\n",
      "\n",
      "*** No instances to display *** \n",
      "\n",
      "image ID: mlcc.18 (18) \n",
      "Processing 1 images\n",
      "image                    shape: (512, 512, 3)         min:    0.00000  max:  126.00000  uint8\n",
      "molded_images            shape: (1, 512, 512, 3)      min: -123.70000  max:   12.10000  float64\n",
      "image_metas              shape: (1, 15)               min:    0.00000  max:  512.00000  int64\n",
      "anchors                  shape: (1, 65472, 4)         min:   -0.04428  max:    0.99494  float32\n",
      "\n",
      "*** No instances to display *** \n",
      "\n",
      "image ID: mlcc.19 (19) \n",
      "Processing 1 images\n",
      "image                    shape: (512, 512, 3)         min:    0.00000  max:  140.00000  uint8\n",
      "molded_images            shape: (1, 512, 512, 3)      min: -123.70000  max:   16.30000  float64\n",
      "image_metas              shape: (1, 15)               min:    0.00000  max:  512.00000  int64\n",
      "anchors                  shape: (1, 65472, 4)         min:   -0.04428  max:    0.99494  float32\n",
      "image ID: mlcc.20 (20) \n",
      "Processing 1 images\n",
      "image                    shape: (512, 512, 3)         min:    0.00000  max:  115.00000  uint8\n",
      "molded_images            shape: (1, 512, 512, 3)      min: -123.70000  max:   -8.70000  float64\n",
      "image_metas              shape: (1, 15)               min:    0.00000  max:  512.00000  int64\n",
      "anchors                  shape: (1, 65472, 4)         min:   -0.04428  max:    0.99494  float32\n"
     ]
    },
    {
     "name": "stderr",
     "output_type": "stream",
     "text": [
      "/usr/local/lib/python3.6/dist-packages/ipykernel_launcher.py:8: RuntimeWarning: More than 20 figures have been opened. Figures created through the pyplot interface (`matplotlib.pyplot.figure`) are retained until explicitly closed and may consume too much memory. (To control this warning, see the rcParam `figure.max_open_warning`).\n",
      "  \n"
     ]
    },
    {
     "name": "stdout",
     "output_type": "stream",
     "text": [
      "\n",
      "*** No instances to display *** \n",
      "\n",
      "image ID: mlcc.21 (21) \n",
      "Processing 1 images\n",
      "image                    shape: (512, 512, 3)         min:    0.00000  max:  134.00000  uint8\n",
      "molded_images            shape: (1, 512, 512, 3)      min: -123.70000  max:   10.30000  float64\n",
      "image_metas              shape: (1, 15)               min:    0.00000  max:  512.00000  int64\n",
      "anchors                  shape: (1, 65472, 4)         min:   -0.04428  max:    0.99494  float32\n"
     ]
    },
    {
     "name": "stderr",
     "output_type": "stream",
     "text": [
      "/usr/local/lib/python3.6/dist-packages/ipykernel_launcher.py:8: RuntimeWarning: More than 20 figures have been opened. Figures created through the pyplot interface (`matplotlib.pyplot.figure`) are retained until explicitly closed and may consume too much memory. (To control this warning, see the rcParam `figure.max_open_warning`).\n",
      "  \n"
     ]
    },
    {
     "name": "stdout",
     "output_type": "stream",
     "text": [
      "image ID: mlcc.22 (22) \n",
      "Processing 1 images\n",
      "image                    shape: (512, 512, 3)         min:    0.00000  max:  112.00000  uint8\n",
      "molded_images            shape: (1, 512, 512, 3)      min: -123.70000  max:  -11.70000  float64\n",
      "image_metas              shape: (1, 15)               min:    0.00000  max:  512.00000  int64\n",
      "anchors                  shape: (1, 65472, 4)         min:   -0.04428  max:    0.99494  float32\n"
     ]
    },
    {
     "name": "stderr",
     "output_type": "stream",
     "text": [
      "/usr/local/lib/python3.6/dist-packages/ipykernel_launcher.py:8: RuntimeWarning: More than 20 figures have been opened. Figures created through the pyplot interface (`matplotlib.pyplot.figure`) are retained until explicitly closed and may consume too much memory. (To control this warning, see the rcParam `figure.max_open_warning`).\n",
      "  \n"
     ]
    },
    {
     "name": "stdout",
     "output_type": "stream",
     "text": [
      "\n",
      "*** No instances to display *** \n",
      "\n",
      "image ID: mlcc.23 (23) \n",
      "Processing 1 images\n",
      "image                    shape: (512, 512, 3)         min:    0.00000  max:  139.00000  uint8\n",
      "molded_images            shape: (1, 512, 512, 3)      min: -123.70000  max:   15.30000  float64\n",
      "image_metas              shape: (1, 15)               min:    0.00000  max:  512.00000  int64\n",
      "anchors                  shape: (1, 65472, 4)         min:   -0.04428  max:    0.99494  float32\n"
     ]
    },
    {
     "name": "stderr",
     "output_type": "stream",
     "text": [
      "/usr/local/lib/python3.6/dist-packages/ipykernel_launcher.py:8: RuntimeWarning: More than 20 figures have been opened. Figures created through the pyplot interface (`matplotlib.pyplot.figure`) are retained until explicitly closed and may consume too much memory. (To control this warning, see the rcParam `figure.max_open_warning`).\n",
      "  \n"
     ]
    },
    {
     "name": "stdout",
     "output_type": "stream",
     "text": [
      "image ID: mlcc.24 (24) \n",
      "Processing 1 images\n",
      "image                    shape: (512, 512, 3)         min:    0.00000  max:  152.00000  uint8\n",
      "molded_images            shape: (1, 512, 512, 3)      min: -123.70000  max:   28.30000  float64\n",
      "image_metas              shape: (1, 15)               min:    0.00000  max:  512.00000  int64\n",
      "anchors                  shape: (1, 65472, 4)         min:   -0.04428  max:    0.99494  float32\n"
     ]
    },
    {
     "name": "stderr",
     "output_type": "stream",
     "text": [
      "/usr/local/lib/python3.6/dist-packages/ipykernel_launcher.py:8: RuntimeWarning: More than 20 figures have been opened. Figures created through the pyplot interface (`matplotlib.pyplot.figure`) are retained until explicitly closed and may consume too much memory. (To control this warning, see the rcParam `figure.max_open_warning`).\n",
      "  \n"
     ]
    },
    {
     "name": "stdout",
     "output_type": "stream",
     "text": [
      "image ID: mlcc.25 (25) \n",
      "Processing 1 images\n",
      "image                    shape: (512, 512, 3)         min:    0.00000  max:  118.00000  uint8\n",
      "molded_images            shape: (1, 512, 512, 3)      min: -123.70000  max:   -5.70000  float64\n",
      "image_metas              shape: (1, 15)               min:    0.00000  max:  512.00000  int64\n",
      "anchors                  shape: (1, 65472, 4)         min:   -0.04428  max:    0.99494  float32\n"
     ]
    },
    {
     "name": "stderr",
     "output_type": "stream",
     "text": [
      "/usr/local/lib/python3.6/dist-packages/ipykernel_launcher.py:8: RuntimeWarning: More than 20 figures have been opened. Figures created through the pyplot interface (`matplotlib.pyplot.figure`) are retained until explicitly closed and may consume too much memory. (To control this warning, see the rcParam `figure.max_open_warning`).\n",
      "  \n"
     ]
    },
    {
     "name": "stdout",
     "output_type": "stream",
     "text": [
      "\n",
      "*** No instances to display *** \n",
      "\n",
      "image ID: mlcc.26 (26) \n",
      "Processing 1 images\n",
      "image                    shape: (512, 512, 3)         min:    0.00000  max:   77.00000  uint8\n",
      "molded_images            shape: (1, 512, 512, 3)      min: -123.70000  max:  -44.90000  float64\n",
      "image_metas              shape: (1, 15)               min:    0.00000  max:  512.00000  int64\n",
      "anchors                  shape: (1, 65472, 4)         min:   -0.04428  max:    0.99494  float32\n"
     ]
    },
    {
     "name": "stderr",
     "output_type": "stream",
     "text": [
      "/usr/local/lib/python3.6/dist-packages/ipykernel_launcher.py:8: RuntimeWarning: More than 20 figures have been opened. Figures created through the pyplot interface (`matplotlib.pyplot.figure`) are retained until explicitly closed and may consume too much memory. (To control this warning, see the rcParam `figure.max_open_warning`).\n",
      "  \n"
     ]
    },
    {
     "name": "stdout",
     "output_type": "stream",
     "text": [
      "\n",
      "*** No instances to display *** \n",
      "\n",
      "image ID: mlcc.27 (27) \n",
      "Processing 1 images\n",
      "image                    shape: (512, 512, 3)         min:    0.00000  max:   78.00000  uint8\n",
      "molded_images            shape: (1, 512, 512, 3)      min: -123.70000  max:  -42.90000  float64\n",
      "image_metas              shape: (1, 15)               min:    0.00000  max:  512.00000  int64\n",
      "anchors                  shape: (1, 65472, 4)         min:   -0.04428  max:    0.99494  float32\n"
     ]
    },
    {
     "name": "stderr",
     "output_type": "stream",
     "text": [
      "/usr/local/lib/python3.6/dist-packages/ipykernel_launcher.py:8: RuntimeWarning: More than 20 figures have been opened. Figures created through the pyplot interface (`matplotlib.pyplot.figure`) are retained until explicitly closed and may consume too much memory. (To control this warning, see the rcParam `figure.max_open_warning`).\n",
      "  \n"
     ]
    },
    {
     "name": "stdout",
     "output_type": "stream",
     "text": [
      "\n",
      "*** No instances to display *** \n",
      "\n",
      "image ID: mlcc.28 (28) \n",
      "Processing 1 images\n",
      "image                    shape: (512, 512, 3)         min:    0.00000  max:  110.00000  uint8\n",
      "molded_images            shape: (1, 512, 512, 3)      min: -123.70000  max:    6.10000  float64\n",
      "image_metas              shape: (1, 15)               min:    0.00000  max:  512.00000  int64\n",
      "anchors                  shape: (1, 65472, 4)         min:   -0.04428  max:    0.99494  float32\n"
     ]
    },
    {
     "name": "stderr",
     "output_type": "stream",
     "text": [
      "/usr/local/lib/python3.6/dist-packages/ipykernel_launcher.py:8: RuntimeWarning: More than 20 figures have been opened. Figures created through the pyplot interface (`matplotlib.pyplot.figure`) are retained until explicitly closed and may consume too much memory. (To control this warning, see the rcParam `figure.max_open_warning`).\n",
      "  \n"
     ]
    },
    {
     "name": "stdout",
     "output_type": "stream",
     "text": [
      "\n",
      "*** No instances to display *** \n",
      "\n",
      "image ID: mlcc.29 (29) \n",
      "Processing 1 images\n",
      "image                    shape: (512, 512, 3)         min:    0.00000  max:   88.00000  uint8\n",
      "molded_images            shape: (1, 512, 512, 3)      min: -123.70000  max:  -35.70000  float64\n",
      "image_metas              shape: (1, 15)               min:    0.00000  max:  512.00000  int64\n",
      "anchors                  shape: (1, 65472, 4)         min:   -0.04428  max:    0.99494  float32\n"
     ]
    },
    {
     "name": "stderr",
     "output_type": "stream",
     "text": [
      "/usr/local/lib/python3.6/dist-packages/ipykernel_launcher.py:8: RuntimeWarning: More than 20 figures have been opened. Figures created through the pyplot interface (`matplotlib.pyplot.figure`) are retained until explicitly closed and may consume too much memory. (To control this warning, see the rcParam `figure.max_open_warning`).\n",
      "  \n"
     ]
    },
    {
     "name": "stdout",
     "output_type": "stream",
     "text": [
      "\n",
      "*** No instances to display *** \n",
      "\n",
      "image ID: mlcc.30 (30) \n",
      "Processing 1 images\n",
      "image                    shape: (512, 512, 3)         min:    0.00000  max:  139.00000  uint8\n",
      "molded_images            shape: (1, 512, 512, 3)      min: -123.70000  max:   15.30000  float64\n",
      "image_metas              shape: (1, 15)               min:    0.00000  max:  512.00000  int64\n",
      "anchors                  shape: (1, 65472, 4)         min:   -0.04428  max:    0.99494  float32\n"
     ]
    },
    {
     "name": "stderr",
     "output_type": "stream",
     "text": [
      "/usr/local/lib/python3.6/dist-packages/ipykernel_launcher.py:8: RuntimeWarning: More than 20 figures have been opened. Figures created through the pyplot interface (`matplotlib.pyplot.figure`) are retained until explicitly closed and may consume too much memory. (To control this warning, see the rcParam `figure.max_open_warning`).\n",
      "  \n"
     ]
    },
    {
     "name": "stdout",
     "output_type": "stream",
     "text": [
      "image ID: mlcc.31 (31) \n",
      "Processing 1 images\n",
      "image                    shape: (512, 512, 3)         min:    0.00000  max:  145.00000  uint8\n",
      "molded_images            shape: (1, 512, 512, 3)      min: -123.70000  max:   21.30000  float64\n",
      "image_metas              shape: (1, 15)               min:    0.00000  max:  512.00000  int64\n",
      "anchors                  shape: (1, 65472, 4)         min:   -0.04428  max:    0.99494  float32\n"
     ]
    },
    {
     "name": "stderr",
     "output_type": "stream",
     "text": [
      "/usr/local/lib/python3.6/dist-packages/ipykernel_launcher.py:8: RuntimeWarning: More than 20 figures have been opened. Figures created through the pyplot interface (`matplotlib.pyplot.figure`) are retained until explicitly closed and may consume too much memory. (To control this warning, see the rcParam `figure.max_open_warning`).\n",
      "  \n"
     ]
    },
    {
     "name": "stdout",
     "output_type": "stream",
     "text": [
      "image ID: mlcc.32 (32) \n",
      "Processing 1 images\n",
      "image                    shape: (512, 512, 3)         min:    0.00000  max:  146.00000  uint8\n",
      "molded_images            shape: (1, 512, 512, 3)      min: -123.70000  max:   22.30000  float64\n",
      "image_metas              shape: (1, 15)               min:    0.00000  max:  512.00000  int64\n",
      "anchors                  shape: (1, 65472, 4)         min:   -0.04428  max:    0.99494  float32\n"
     ]
    },
    {
     "name": "stderr",
     "output_type": "stream",
     "text": [
      "/usr/local/lib/python3.6/dist-packages/ipykernel_launcher.py:8: RuntimeWarning: More than 20 figures have been opened. Figures created through the pyplot interface (`matplotlib.pyplot.figure`) are retained until explicitly closed and may consume too much memory. (To control this warning, see the rcParam `figure.max_open_warning`).\n",
      "  \n"
     ]
    },
    {
     "name": "stdout",
     "output_type": "stream",
     "text": [
      "image ID: mlcc.33 (33) \n",
      "Processing 1 images\n",
      "image                    shape: (512, 512, 3)         min:    0.00000  max:   92.00000  uint8\n",
      "molded_images            shape: (1, 512, 512, 3)      min: -123.70000  max:  -31.70000  float64\n",
      "image_metas              shape: (1, 15)               min:    0.00000  max:  512.00000  int64\n",
      "anchors                  shape: (1, 65472, 4)         min:   -0.04428  max:    0.99494  float32\n"
     ]
    },
    {
     "name": "stderr",
     "output_type": "stream",
     "text": [
      "/usr/local/lib/python3.6/dist-packages/ipykernel_launcher.py:8: RuntimeWarning: More than 20 figures have been opened. Figures created through the pyplot interface (`matplotlib.pyplot.figure`) are retained until explicitly closed and may consume too much memory. (To control this warning, see the rcParam `figure.max_open_warning`).\n",
      "  \n"
     ]
    },
    {
     "name": "stdout",
     "output_type": "stream",
     "text": [
      "\n",
      "*** No instances to display *** \n",
      "\n",
      "image ID: mlcc.34 (34) \n",
      "Processing 1 images\n",
      "image                    shape: (512, 512, 3)         min:    0.00000  max:   74.00000  uint8\n",
      "molded_images            shape: (1, 512, 512, 3)      min: -123.70000  max:  -45.90000  float64\n",
      "image_metas              shape: (1, 15)               min:    0.00000  max:  512.00000  int64\n",
      "anchors                  shape: (1, 65472, 4)         min:   -0.04428  max:    0.99494  float32\n"
     ]
    },
    {
     "name": "stderr",
     "output_type": "stream",
     "text": [
      "/usr/local/lib/python3.6/dist-packages/ipykernel_launcher.py:8: RuntimeWarning: More than 20 figures have been opened. Figures created through the pyplot interface (`matplotlib.pyplot.figure`) are retained until explicitly closed and may consume too much memory. (To control this warning, see the rcParam `figure.max_open_warning`).\n",
      "  \n"
     ]
    },
    {
     "name": "stdout",
     "output_type": "stream",
     "text": [
      "\n",
      "*** No instances to display *** \n",
      "\n",
      "image ID: mlcc.35 (35) \n",
      "Processing 1 images\n",
      "image                    shape: (512, 512, 3)         min:    0.00000  max:   81.00000  uint8\n",
      "molded_images            shape: (1, 512, 512, 3)      min: -123.70000  max:  -41.90000  float64\n",
      "image_metas              shape: (1, 15)               min:    0.00000  max:  512.00000  int64\n",
      "anchors                  shape: (1, 65472, 4)         min:   -0.04428  max:    0.99494  float32\n"
     ]
    },
    {
     "name": "stderr",
     "output_type": "stream",
     "text": [
      "/usr/local/lib/python3.6/dist-packages/ipykernel_launcher.py:8: RuntimeWarning: More than 20 figures have been opened. Figures created through the pyplot interface (`matplotlib.pyplot.figure`) are retained until explicitly closed and may consume too much memory. (To control this warning, see the rcParam `figure.max_open_warning`).\n",
      "  \n"
     ]
    },
    {
     "name": "stdout",
     "output_type": "stream",
     "text": [
      "\n",
      "*** No instances to display *** \n",
      "\n",
      "image ID: mlcc.36 (36) \n",
      "Processing 1 images\n",
      "image                    shape: (512, 512, 3)         min:    0.00000  max:   87.00000  uint8\n",
      "molded_images            shape: (1, 512, 512, 3)      min: -123.70000  max:  -35.90000  float64\n",
      "image_metas              shape: (1, 15)               min:    0.00000  max:  512.00000  int64\n",
      "anchors                  shape: (1, 65472, 4)         min:   -0.04428  max:    0.99494  float32\n"
     ]
    },
    {
     "name": "stderr",
     "output_type": "stream",
     "text": [
      "/usr/local/lib/python3.6/dist-packages/ipykernel_launcher.py:8: RuntimeWarning: More than 20 figures have been opened. Figures created through the pyplot interface (`matplotlib.pyplot.figure`) are retained until explicitly closed and may consume too much memory. (To control this warning, see the rcParam `figure.max_open_warning`).\n",
      "  \n"
     ]
    },
    {
     "name": "stdout",
     "output_type": "stream",
     "text": [
      "\n",
      "*** No instances to display *** \n",
      "\n",
      "image ID: mlcc.37 (37) \n",
      "Processing 1 images\n",
      "image                    shape: (512, 512, 3)         min:    0.00000  max:  138.00000  uint8\n",
      "molded_images            shape: (1, 512, 512, 3)      min: -123.70000  max:   14.30000  float64\n",
      "image_metas              shape: (1, 15)               min:    0.00000  max:  512.00000  int64\n",
      "anchors                  shape: (1, 65472, 4)         min:   -0.04428  max:    0.99494  float32\n"
     ]
    },
    {
     "name": "stderr",
     "output_type": "stream",
     "text": [
      "/usr/local/lib/python3.6/dist-packages/ipykernel_launcher.py:8: RuntimeWarning: More than 20 figures have been opened. Figures created through the pyplot interface (`matplotlib.pyplot.figure`) are retained until explicitly closed and may consume too much memory. (To control this warning, see the rcParam `figure.max_open_warning`).\n",
      "  \n"
     ]
    },
    {
     "name": "stdout",
     "output_type": "stream",
     "text": [
      "image ID: mlcc.38 (38) \n",
      "Processing 1 images\n",
      "image                    shape: (512, 512, 3)         min:    0.00000  max:  133.00000  uint8\n",
      "molded_images            shape: (1, 512, 512, 3)      min: -123.70000  max:    9.30000  float64\n",
      "image_metas              shape: (1, 15)               min:    0.00000  max:  512.00000  int64\n",
      "anchors                  shape: (1, 65472, 4)         min:   -0.04428  max:    0.99494  float32\n"
     ]
    },
    {
     "name": "stderr",
     "output_type": "stream",
     "text": [
      "/usr/local/lib/python3.6/dist-packages/ipykernel_launcher.py:8: RuntimeWarning: More than 20 figures have been opened. Figures created through the pyplot interface (`matplotlib.pyplot.figure`) are retained until explicitly closed and may consume too much memory. (To control this warning, see the rcParam `figure.max_open_warning`).\n",
      "  \n"
     ]
    },
    {
     "name": "stdout",
     "output_type": "stream",
     "text": [
      "\n",
      "*** No instances to display *** \n",
      "\n",
      "image ID: mlcc.39 (39) \n",
      "Processing 1 images\n",
      "image                    shape: (512, 512, 3)         min:    0.00000  max:  148.00000  uint8\n",
      "molded_images            shape: (1, 512, 512, 3)      min: -123.70000  max:   24.30000  float64\n",
      "image_metas              shape: (1, 15)               min:    0.00000  max:  512.00000  int64\n",
      "anchors                  shape: (1, 65472, 4)         min:   -0.04428  max:    0.99494  float32\n"
     ]
    },
    {
     "name": "stderr",
     "output_type": "stream",
     "text": [
      "/usr/local/lib/python3.6/dist-packages/ipykernel_launcher.py:8: RuntimeWarning: More than 20 figures have been opened. Figures created through the pyplot interface (`matplotlib.pyplot.figure`) are retained until explicitly closed and may consume too much memory. (To control this warning, see the rcParam `figure.max_open_warning`).\n",
      "  \n"
     ]
    },
    {
     "name": "stdout",
     "output_type": "stream",
     "text": [
      "image ID: mlcc.40 (40) \n",
      "Processing 1 images\n",
      "image                    shape: (512, 512, 3)         min:    0.00000  max:  122.00000  uint8\n",
      "molded_images            shape: (1, 512, 512, 3)      min: -123.70000  max:   -1.70000  float64\n",
      "image_metas              shape: (1, 15)               min:    0.00000  max:  512.00000  int64\n",
      "anchors                  shape: (1, 65472, 4)         min:   -0.04428  max:    0.99494  float32\n"
     ]
    },
    {
     "name": "stderr",
     "output_type": "stream",
     "text": [
      "/usr/local/lib/python3.6/dist-packages/ipykernel_launcher.py:8: RuntimeWarning: More than 20 figures have been opened. Figures created through the pyplot interface (`matplotlib.pyplot.figure`) are retained until explicitly closed and may consume too much memory. (To control this warning, see the rcParam `figure.max_open_warning`).\n",
      "  \n"
     ]
    },
    {
     "name": "stdout",
     "output_type": "stream",
     "text": [
      "image ID: mlcc.41 (41) \n",
      "Processing 1 images\n",
      "image                    shape: (512, 512, 3)         min:    0.00000  max:  144.00000  uint8\n",
      "molded_images            shape: (1, 512, 512, 3)      min: -123.70000  max:   20.30000  float64\n",
      "image_metas              shape: (1, 15)               min:    0.00000  max:  512.00000  int64\n",
      "anchors                  shape: (1, 65472, 4)         min:   -0.04428  max:    0.99494  float32\n"
     ]
    },
    {
     "name": "stderr",
     "output_type": "stream",
     "text": [
      "/usr/local/lib/python3.6/dist-packages/ipykernel_launcher.py:8: RuntimeWarning: More than 20 figures have been opened. Figures created through the pyplot interface (`matplotlib.pyplot.figure`) are retained until explicitly closed and may consume too much memory. (To control this warning, see the rcParam `figure.max_open_warning`).\n",
      "  \n"
     ]
    },
    {
     "name": "stdout",
     "output_type": "stream",
     "text": [
      "image ID: mlcc.42 (42) \n",
      "Processing 1 images\n",
      "image                    shape: (512, 512, 3)         min:    0.00000  max:  121.00000  uint8\n",
      "molded_images            shape: (1, 512, 512, 3)      min: -123.70000  max:   -2.70000  float64\n",
      "image_metas              shape: (1, 15)               min:    0.00000  max:  512.00000  int64\n",
      "anchors                  shape: (1, 65472, 4)         min:   -0.04428  max:    0.99494  float32\n"
     ]
    },
    {
     "name": "stderr",
     "output_type": "stream",
     "text": [
      "/usr/local/lib/python3.6/dist-packages/ipykernel_launcher.py:8: RuntimeWarning: More than 20 figures have been opened. Figures created through the pyplot interface (`matplotlib.pyplot.figure`) are retained until explicitly closed and may consume too much memory. (To control this warning, see the rcParam `figure.max_open_warning`).\n",
      "  \n"
     ]
    },
    {
     "name": "stdout",
     "output_type": "stream",
     "text": [
      "image ID: mlcc.43 (43) \n",
      "Processing 1 images\n",
      "image                    shape: (512, 512, 3)         min:    0.00000  max:   78.00000  uint8\n",
      "molded_images            shape: (1, 512, 512, 3)      min: -123.70000  max:  -38.90000  float64\n",
      "image_metas              shape: (1, 15)               min:    0.00000  max:  512.00000  int64\n",
      "anchors                  shape: (1, 65472, 4)         min:   -0.04428  max:    0.99494  float32\n"
     ]
    },
    {
     "name": "stderr",
     "output_type": "stream",
     "text": [
      "/usr/local/lib/python3.6/dist-packages/ipykernel_launcher.py:8: RuntimeWarning: More than 20 figures have been opened. Figures created through the pyplot interface (`matplotlib.pyplot.figure`) are retained until explicitly closed and may consume too much memory. (To control this warning, see the rcParam `figure.max_open_warning`).\n",
      "  \n"
     ]
    },
    {
     "name": "stdout",
     "output_type": "stream",
     "text": [
      "\n",
      "*** No instances to display *** \n",
      "\n",
      "image ID: mlcc.44 (44) \n",
      "Processing 1 images\n",
      "image                    shape: (512, 512, 3)         min:    0.00000  max:  138.00000  uint8\n",
      "molded_images            shape: (1, 512, 512, 3)      min: -123.70000  max:   14.30000  float64\n",
      "image_metas              shape: (1, 15)               min:    0.00000  max:  512.00000  int64\n",
      "anchors                  shape: (1, 65472, 4)         min:   -0.04428  max:    0.99494  float32\n"
     ]
    },
    {
     "name": "stderr",
     "output_type": "stream",
     "text": [
      "/usr/local/lib/python3.6/dist-packages/ipykernel_launcher.py:8: RuntimeWarning: More than 20 figures have been opened. Figures created through the pyplot interface (`matplotlib.pyplot.figure`) are retained until explicitly closed and may consume too much memory. (To control this warning, see the rcParam `figure.max_open_warning`).\n",
      "  \n"
     ]
    },
    {
     "name": "stdout",
     "output_type": "stream",
     "text": [
      "image ID: mlcc.45 (45) \n",
      "Processing 1 images\n",
      "image                    shape: (512, 512, 3)         min:    0.00000  max:   71.00000  uint8\n",
      "molded_images            shape: (1, 512, 512, 3)      min: -123.70000  max:  -50.90000  float64\n",
      "image_metas              shape: (1, 15)               min:    0.00000  max:  512.00000  int64\n",
      "anchors                  shape: (1, 65472, 4)         min:   -0.04428  max:    0.99494  float32\n"
     ]
    }
   ],
   "source": [
    "# Draw only faults\n",
    "folder = \"./mlcc2_test_res2\"\n",
    "if not os.path.exists(folder):\n",
    "    os.makedirs(folder)\n",
    "#image_id = random.choice(dataset.image_ids)\n",
    "for i in range(len(dataset.image_ids)):\n",
    "    name = os.path.join(folder, \"mlcc2-{:03d}.png\".format(i+8))\n",
    "    image_id = i\n",
    "    image, image_meta, gt_class_id, gt_bbox, gt_mask =\\\n",
    "        modellib.load_image_gt(dataset, config, image_id, use_mini_mask=False)\n",
    "    info = dataset.image_info[image_id]\n",
    "    print(\"image ID: {}.{} ({}) {}\".format(info[\"source\"], info[\"id\"], image_id, \n",
    "                                           dataset.image_reference(image_id)))\n",
    "    # Run object detection\n",
    "    results = model.detect([image], verbose=1)\n",
    "\n",
    "    fault_idx = np.where(results[0]['class_ids']==1)[0]\n",
    "    res_fault = {}\n",
    "    res_fault['rois'] = results[0]['rois'][fault_idx]\n",
    "    res_fault['class_ids'] = results[0]['class_ids'][fault_idx]\n",
    "    res_fault['masks'] = results[0]['masks'][:,:,fault_idx]\n",
    "    res_fault['scores'] = results[0]['scores'][fault_idx]\n",
    "\n",
    "    # Display results\n",
    "    ax = get_ax(1)\n",
    "    r = res_fault\n",
    "    visualize.save_instances(image, r['rois'], r['masks'], r['class_ids'], \n",
    "                                dataset.class_names, r['scores'], ax=ax,\n",
    "                                title=\"Predictions\",\n",
    "                             path=name)\n",
    "    #log(\"gt_class_id\", gt_class_id)\n",
    "    #log(\"gt_bbox\", gt_bbox)\n",
    "    #log(\"gt_mask\", gt_mask)"
   ]
  },
  {
   "cell_type": "code",
   "execution_count": null,
   "metadata": {},
   "outputs": [],
   "source": [
    "#image_id = random.choice(dataset.image_ids)\n",
    "image_id = 57\n",
    "image, image_meta, gt_class_id, gt_bbox, gt_mask =\\\n",
    "    modellib.load_image_gt(dataset, config, image_id, use_mini_mask=False)\n",
    "info = dataset.image_info[image_id]\n",
    "print(\"image ID: {}.{} ({}) {}\".format(info[\"source\"], info[\"id\"], image_id, \n",
    "                                       dataset.image_reference(image_id)))\n",
    "# Run object detection\n",
    "results = model.detect([image], verbose=1)\n",
    "\n",
    "# Display results\n",
    "ax = get_ax(1)\n",
    "r = results[0]\n",
    "visualize.display_instances(image, r['rois'], r['masks'], r['class_ids'], \n",
    "                            dataset.class_names, r['scores'], ax=ax,\n",
    "                            title=\"Predictions\")\n",
    "log(\"gt_class_id\", gt_class_id)\n",
    "log(\"gt_bbox\", gt_bbox)\n",
    "log(\"gt_mask\", gt_mask)"
   ]
  },
  {
   "cell_type": "code",
   "execution_count": null,
   "metadata": {},
   "outputs": [],
   "source": [
    "def acc_cal(gt, res):\n",
    "    unique_gt, count_gt = np.unique(gt, return_counts=True)\n",
    "    unique_res, count_res = np.unique(res, return_counts=True)\n",
    "    \n",
    "    if len(count_gt) == 2:\n",
    "        if len(count_res) == 2:\n",
    "            acc_mlcc = count_res[1]/count_gt[1]\n",
    "            acc_fault = count_res[0]/count_gt[0]\n",
    "        else:\n",
    "            acc_mlcc = count_res[0]/count_gt[1]\n",
    "            acc_fault = None\n",
    "    else:\n",
    "        acc_mlcc = count_res[0]/count_gt[0]\n",
    "        acc_fault = None\n",
    "    \n",
    "    return [acc_mlcc, acc_fault]"
   ]
  },
  {
   "cell_type": "code",
   "execution_count": null,
   "metadata": {},
   "outputs": [],
   "source": [
    "accuracy = []\n",
    "\n",
    "for idx in dataset.image_ids:\n",
    "    image_id = idx\n",
    "\n",
    "    image, image_meta, gt_class_id, gt_bbox, gt_mask =\\\n",
    "        modellib.load_image_gt(dataset, config, image_id, use_mini_mask=False)\n",
    "    info = dataset.image_info[image_id]\n",
    "    results = model.detect([image], verbose=1)\n",
    "    \n",
    "    acc = acc_cal(gt_class_id, results[0]['class_ids'])\n",
    "    accuracy.append(acc)"
   ]
  },
  {
   "cell_type": "code",
   "execution_count": null,
   "metadata": {},
   "outputs": [],
   "source": [
    "ac_res = np.array(accuracy)"
   ]
  },
  {
   "cell_type": "code",
   "execution_count": null,
   "metadata": {},
   "outputs": [],
   "source": [
    "fault_acc = []\n",
    "for i in range(ac_res.shape[0]):\n",
    "    if ac_res[i][1] != None:\n",
    "        fault_acc.append(ac_res[i][1])"
   ]
  },
  {
   "cell_type": "code",
   "execution_count": null,
   "metadata": {},
   "outputs": [],
   "source": [
    "mlcc_acc = ac_res[:,0]"
   ]
  },
  {
   "cell_type": "code",
   "execution_count": null,
   "metadata": {},
   "outputs": [],
   "source": [
    "np.mean(mlcc_acc)"
   ]
  },
  {
   "cell_type": "code",
   "execution_count": null,
   "metadata": {},
   "outputs": [],
   "source": [
    "np.mean(fault_acc)"
   ]
  },
  {
   "cell_type": "markdown",
   "metadata": {},
   "source": [
    "### Precision-Recall"
   ]
  },
  {
   "cell_type": "code",
   "execution_count": null,
   "metadata": {},
   "outputs": [],
   "source": [
    "# Draw precision-recall curve\n",
    "AP, precisions, recalls, overlaps = utils.compute_ap(gt_bbox, gt_class_id, gt_mask,\n",
    "                                          r['rois'], r['class_ids'], r['scores'], r['masks'])\n",
    "visualize.plot_precision_recall(AP, precisions, recalls)"
   ]
  },
  {
   "cell_type": "markdown",
   "metadata": {},
   "source": [
    "### Compute mAP @ IoU=50 on Batch of Images"
   ]
  },
  {
   "cell_type": "code",
   "execution_count": null,
   "metadata": {},
   "outputs": [],
   "source": [
    "# Compute VOC-style Average Precision\n",
    "def compute_batch_ap(image_ids):\n",
    "    APs = []\n",
    "    for image_id in image_ids:\n",
    "        # Load image\n",
    "        image, image_meta, gt_class_id, gt_bbox, gt_mask =\\\n",
    "            modellib.load_image_gt(dataset, config,\n",
    "                                   image_id, use_mini_mask=False)\n",
    "        # Run object detection\n",
    "        results = model.detect([image], verbose=0)\n",
    "        # Compute AP\n",
    "        r = results[0]\n",
    "        AP, precisions, recalls, overlaps =\\\n",
    "            utils.compute_ap(gt_bbox, gt_class_id, gt_mask,\n",
    "                              r['rois'], r['class_ids'], r['scores'], r['masks'])\n",
    "        APs.append(AP)\n",
    "    return APs\n",
    "\n",
    "\n",
    "# Pick a set of random images\n",
    "image_ids = np.random.choice(dataset.image_ids, 10)\n",
    "APs = compute_batch_ap(image_ids)\n",
    "print(\"mAP @ IoU=50: \", np.mean(APs))"
   ]
  },
  {
   "cell_type": "code",
   "execution_count": null,
   "metadata": {},
   "outputs": [],
   "source": [
    "def compute_batch_conf(image_ids):\n",
    "    confs = []\n",
    "    for image_id in image_ids:\n",
    "        # Load image\n",
    "        image, image_meta, gt_class_id, gt_bbox, gt_mask =\\\n",
    "            modellib.load_image_gt(dataset, config,\n",
    "                                   image_id, use_mini_mask=False)\n",
    "        # Run object detection\n",
    "        results = model.detect([image], verbose=0)\n",
    "        # Compute AP\n",
    "        r = results[0]\n",
    "        AP, precisions, recalls, overlaps =\\\n",
    "            utils.compute_ap(gt_bbox, gt_class_id, gt_mask,\n",
    "                              r['rois'], r['class_ids'], r['scores'], r['masks'])\n",
    "        confs.append([AP, precisions, recalls, overlaps])\n",
    "    return confs\n",
    "\n",
    "results = compute_batch_conf(dataset.image_ids)"
   ]
  },
  {
   "cell_type": "code",
   "execution_count": null,
   "metadata": {},
   "outputs": [],
   "source": [
    "results = np.array(results)"
   ]
  },
  {
   "cell_type": "code",
   "execution_count": null,
   "metadata": {},
   "outputs": [],
   "source": [
    "results[0][2]"
   ]
  }
 ],
 "metadata": {
  "kernelspec": {
   "display_name": "Python 3",
   "language": "python",
   "name": "python3"
  },
  "language_info": {
   "codemirror_mode": {
    "name": "ipython",
    "version": 3
   },
   "file_extension": ".py",
   "mimetype": "text/x-python",
   "name": "python",
   "nbconvert_exporter": "python",
   "pygments_lexer": "ipython3",
   "version": "3.5.2"
  }
 },
 "nbformat": 4,
 "nbformat_minor": 4
}
